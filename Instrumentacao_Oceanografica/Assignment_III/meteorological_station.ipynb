{
 "cells": [
  {
   "cell_type": "markdown",
   "id": "14793fad-d75b-4f32-a6c3-10104189a722",
   "metadata": {},
   "source": [
    "<h1 style=\"margin-bottom: 0px; fontcolor:'red'\"><center><strong>Universidade Federal do Rio de Janeiro</strong></center></h1>\n",
    "<h3><center><strong>Programa de Pós-Graduação em Meteorologia</strong></center></h3>\n",
    "<h4><center>Disciplina de Instrumentação Oceanográfica</center></h4>\n",
    "<h4><center>Atividade III</center></h4>\n",
    "<h4><center>Estação Meteorológica</center></h4>"
   ]
  },
  {
   "cell_type": "code",
   "execution_count": 1,
   "id": "8bb40cac-b893-4e7a-8305-8e0e75f43fc5",
   "metadata": {},
   "outputs": [],
   "source": [
    "import pandas as pd\n",
    "import numpy as np \n"
   ]
  },
  {
   "cell_type": "markdown",
   "id": "dbc240f1-6c29-47b4-832c-3b9a150d6f13",
   "metadata": {},
   "source": [
    "### Carregando os dados..."
   ]
  },
  {
   "cell_type": "code",
   "execution_count": null,
   "id": "9689d44d-f6a4-4886-ad12-496a97260e77",
   "metadata": {},
   "outputs": [],
   "source": []
  }
 ],
 "metadata": {
  "kernelspec": {
   "display_name": "Python 3 (ipykernel)",
   "language": "python",
   "name": "python3"
  },
  "language_info": {
   "codemirror_mode": {
    "name": "ipython",
    "version": 3
   },
   "file_extension": ".py",
   "mimetype": "text/x-python",
   "name": "python",
   "nbconvert_exporter": "python",
   "pygments_lexer": "ipython3",
   "version": "3.9.5"
  }
 },
 "nbformat": 4,
 "nbformat_minor": 5
}
