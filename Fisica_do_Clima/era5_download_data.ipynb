{
 "cells": [
  {
   "cell_type": "code",
   "execution_count": 3,
   "id": "e1958eee-ada2-464d-87c9-1e9520a01d64",
   "metadata": {},
   "outputs": [],
   "source": [
    "import cdsapi\n",
    "c = cdsapi.Client()"
   ]
  },
  {
   "cell_type": "code",
   "execution_count": 7,
   "id": "7564da53-c17b-44f4-ac55-e49401df01d4",
   "metadata": {},
   "outputs": [
    {
     "name": "stderr",
     "output_type": "stream",
     "text": [
      "2022-01-18 17:31:57,286 INFO Welcome to the CDS\n",
      "2022-01-18 17:31:57,287 INFO Sending request to https://cds.climate.copernicus.eu/api/v2/resources/reanalysis-era5-single-levels\n",
      "2022-01-18 17:31:57,513 INFO Request is queued\n",
      "2022-01-18 17:32:03,132 INFO Request is running\n",
      "2022-01-18 17:38:19,961 INFO Request is completed\n",
      "2022-01-18 17:38:19,961 INFO Downloading https://download-0010.copernicus-climate.eu/cache-compute-0010/cache/data6/adaptor.mars.internal-1642538225.972951-3205-10-29323ae9-b477-4fb9-b6a5-f779e4b2c404.nc to download_2.nc (3.1M)\n",
      "2022-01-18 17:38:25,582 INFO Download rate 571.2K/s                             \n"
     ]
    },
    {
     "data": {
      "text/plain": [
       "Result(content_length=3287060,content_type=application/x-netcdf,location=https://download-0010.copernicus-climate.eu/cache-compute-0010/cache/data6/adaptor.mars.internal-1642538225.972951-3205-10-29323ae9-b477-4fb9-b6a5-f779e4b2c404.nc)"
      ]
     },
     "execution_count": 7,
     "metadata": {},
     "output_type": "execute_result"
    }
   ],
   "source": [
    "import cdsapi\n",
    "\n",
    "c = cdsapi.Client()\n",
    "\n",
    "c.retrieve(\n",
    "    'reanalysis-era5-single-levels',\n",
    "    {\n",
    "        'product_type': 'reanalysis',\n",
    "        'format': 'netcdf',\n",
    "        'variable': 'sea_surface_temperature',\n",
    "        'year': [\n",
    "            '2004', '2005', '2006',\n",
    "            '2007', '2009', '2010',\n",
    "            '2011', '2012', '2013',\n",
    "            '2014', '2015', '2016',\n",
    "            '2017', '2018', '2019',\n",
    "            '2020', '2021',\n",
    "        ],\n",
    "        'month': [\n",
    "            '01', '02', '03',\n",
    "            '05', '06', \n",
    "        ],\n",
    "        'day': [\n",
    "            '01', '02', '03',\n",
    "            '04', '05', '06',\n",
    "            '07', '08', '09',\n",
    "            '10', '11', '12',\n",
    "            '13', '14', '15',\n",
    "            '16', '17', '18',\n",
    "            '19', '20', '21',\n",
    "            '22', '23', '24',\n",
    "            '25', '26', '27',\n",
    "            '28', '29', '30',\n",
    "            '31',\n",
    "        ],\n",
    "        'time': [\n",
    "            '12:00',\n",
    "        ],\n",
    "        'area': [\n",
    "            -20, -41, -23,\n",
    "            -29,\n",
    "        ],\n",
    "    },\n",
    "    'download_2.nc')"
   ]
  },
  {
   "cell_type": "code",
   "execution_count": null,
   "id": "00415db0-3676-4b2c-a427-f3b3924963ef",
   "metadata": {},
   "outputs": [],
   "source": []
  }
 ],
 "metadata": {
  "kernelspec": {
   "display_name": "Python 3 (ipykernel)",
   "language": "python",
   "name": "python3"
  },
  "language_info": {
   "codemirror_mode": {
    "name": "ipython",
    "version": 3
   },
   "file_extension": ".py",
   "mimetype": "text/x-python",
   "name": "python",
   "nbconvert_exporter": "python",
   "pygments_lexer": "ipython3",
   "version": "3.9.5"
  }
 },
 "nbformat": 4,
 "nbformat_minor": 5
}
