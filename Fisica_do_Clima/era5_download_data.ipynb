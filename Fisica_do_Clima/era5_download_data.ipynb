{
 "cells": [
  {
   "cell_type": "code",
   "execution_count": 1,
   "id": "e1958eee-ada2-464d-87c9-1e9520a01d64",
   "metadata": {},
   "outputs": [],
   "source": [
    "import cdsapi\n",
    "c = cdsapi.Client()"
   ]
  },
  {
   "cell_type": "code",
   "execution_count": 4,
   "id": "7564da53-c17b-44f4-ac55-e49401df01d4",
   "metadata": {},
   "outputs": [
    {
     "name": "stderr",
     "output_type": "stream",
     "text": [
      "2022-02-21 19:04:11,675 INFO Welcome to the CDS\n",
      "2022-02-21 19:04:11,677 INFO Sending request to https://cds.climate.copernicus.eu/api/v2/resources/reanalysis-era5-single-levels\n",
      "2022-02-21 19:04:12,801 INFO Request is queued\n",
      "2022-02-21 19:14:37,966 INFO Request is running\n",
      "2022-02-21 19:26:44,786 INFO Request is completed\n",
      "2022-02-21 19:26:44,787 INFO Downloading https://download-0003.copernicus-climate.eu/cache-compute-0003/cache/data6/adaptor.mars.internal-1645482290.4101765-19622-8-7a28f2e4-f571-48a2-a4d8-0def2e68a4d0.nc to download_full_era5_movar.nc (7.1M)\n",
      "2022-02-21 19:26:52,199 INFO Download rate 984.3K/s \n"
     ]
    },
    {
     "data": {
      "text/plain": [
       "Result(content_length=7469952,content_type=application/x-netcdf,location=https://download-0003.copernicus-climate.eu/cache-compute-0003/cache/data6/adaptor.mars.internal-1645482290.4101765-19622-8-7a28f2e4-f571-48a2-a4d8-0def2e68a4d0.nc)"
      ]
     },
     "execution_count": 4,
     "metadata": {},
     "output_type": "execute_result"
    }
   ],
   "source": [
    "import cdsapi\n",
    "\n",
    "c = cdsapi.Client()\n",
    "\n",
    "c.retrieve(\n",
    "    'reanalysis-era5-single-levels',\n",
    "    {\n",
    "        'product_type': 'reanalysis',\n",
    "        'format': 'netcdf',\n",
    "        'variable': 'sea_surface_temperature',\n",
    "        'year': [\n",
    "            '2004', '2005', '2006',\n",
    "            '2007', '2008','2009', '2010',\n",
    "            '2011', '2012', '2013',\n",
    "            '2014', '2015', '2016',\n",
    "            '2017', '2018', '2019',\n",
    "        #    '2020', '2021',\n",
    "        ],\n",
    "        'month': [\n",
    "            '01', '02', '03','04',\n",
    "            '05', '06', '07', '08',\n",
    "            '09', '10', '11', '12'\n",
    "        ],\n",
    "        'day': [\n",
    "            '01', '02', '03',\n",
    "            '04', '05', '06',\n",
    "            '07', '08', '09',\n",
    "            '10', '11', '12',\n",
    "            '13', '14', '15',\n",
    "            '16', '17', '18',\n",
    "            '19', '20', '21',\n",
    "            '22', '23', '24',\n",
    "            '25', '26', '27',\n",
    "            '28', '29', '30',\n",
    "            '31',\n",
    "        ],\n",
    "        'time': [\n",
    "            '12:00',\n",
    "        ],\n",
    "        'area': [\n",
    "            -20, -41, -23,\n",
    "            -29,\n",
    "        ],\n",
    "    },\n",
    "    'download_full_era5_movar.nc')"
   ]
  },
  {
   "cell_type": "markdown",
   "id": "0d611c9e",
   "metadata": {},
   "source": [
    "### DOWNLOAD período ARANI\n",
    "00 UTC, 06 UTC, 12 UTC e 18 UTC"
   ]
  },
  {
   "cell_type": "code",
   "execution_count": 5,
   "id": "16b1f105",
   "metadata": {},
   "outputs": [
    {
     "name": "stderr",
     "output_type": "stream",
     "text": [
      "2022-02-21 19:57:06,878 INFO Welcome to the CDS\n",
      "2022-02-21 19:57:06,878 INFO Sending request to https://cds.climate.copernicus.eu/api/v2/resources/reanalysis-era5-single-levels\n",
      "2022-02-21 19:57:07,186 INFO Request is queued\n",
      "2022-02-21 20:01:28,723 INFO Request is completed\n",
      "2022-02-21 20:01:28,724 INFO Downloading https://download-0011.copernicus-climate.eu/cache-compute-0011/cache/data4/adaptor.mars.internal-1645484453.6292176-24453-7-71933e98-feb8-48e2-9077-16830d7ab689.nc to download_era5_aranis.nc (106.1K)\n",
      "2022-02-21 20:01:30,872 INFO Download rate 49.4K/s \n"
     ]
    },
    {
     "data": {
      "text/plain": [
       "Result(content_length=108672,content_type=application/x-netcdf,location=https://download-0011.copernicus-climate.eu/cache-compute-0011/cache/data4/adaptor.mars.internal-1645484453.6292176-24453-7-71933e98-feb8-48e2-9077-16830d7ab689.nc)"
      ]
     },
     "execution_count": 5,
     "metadata": {},
     "output_type": "execute_result"
    }
   ],
   "source": [
    "import cdsapi\n",
    "\n",
    "c = cdsapi.Client()\n",
    "\n",
    "c.retrieve(\n",
    "    'reanalysis-era5-single-levels',\n",
    "    {\n",
    "        'product_type': 'reanalysis',\n",
    "        'format': 'netcdf',\n",
    "        'variable': 'sea_surface_temperature',\n",
    "        'year': [\n",
    "                 '2016',\n",
    "        ],\n",
    "        'month': [\n",
    "                 '11'\n",
    "        ],\n",
    "        'day': [\n",
    "                '07', '08', '09',\n",
    "                '10', '11', '12',\n",
    "                '13', '14', '15',\n",
    "                '16', '17', '18',\n",
    "                '19', '20', '21',\n",
    "                '22', '23', '24',\n",
    "                '25', '26', '27',\n",
    "        ],\n",
    "        'time': [\n",
    "            '00:00','06:00','12:00','18:00'\n",
    "        ],\n",
    "        'area': [\n",
    "            -20, -41, -23,\n",
    "            -29,\n",
    "        ],\n",
    "    },\n",
    "    'download_era5_deni.nc')"
   ]
  },
  {
   "cell_type": "markdown",
   "id": "3dde2fdb",
   "metadata": {},
   "source": [
    "### DENI"
   ]
  },
  {
   "cell_type": "code",
   "execution_count": 8,
   "id": "895edfa4",
   "metadata": {},
   "outputs": [
    {
     "name": "stderr",
     "output_type": "stream",
     "text": [
      "2022-02-22 00:43:02,955 INFO Welcome to the CDS\n",
      "2022-02-22 00:43:02,980 INFO Sending request to https://cds.climate.copernicus.eu/api/v2/resources/reanalysis-era5-single-levels\n",
      "2022-02-22 00:43:03,263 INFO Request is queued\n",
      "2022-02-22 00:45:57,446 INFO Request is completed\n",
      "2022-02-22 00:45:57,504 INFO Downloading https://download-0012.copernicus-climate.eu/cache-compute-0012/cache/data3/adaptor.mars.internal-1645501524.9802732-6433-2-8fc1d2bf-0792-40c1-9f6f-9a06ecfbcd73.nc to download_era5_ecai.nc (41.2K)\n",
      "2022-02-22 00:45:59,709 INFO Download rate 18.7K/s  \n"
     ]
    },
    {
     "data": {
      "text/plain": [
       "Result(content_length=42216,content_type=application/x-netcdf,location=https://download-0012.copernicus-climate.eu/cache-compute-0012/cache/data3/adaptor.mars.internal-1645501524.9802732-6433-2-8fc1d2bf-0792-40c1-9f6f-9a06ecfbcd73.nc)"
      ]
     },
     "execution_count": 8,
     "metadata": {},
     "output_type": "execute_result"
    }
   ],
   "source": [
    "\n",
    "\n",
    "import cdsapi\n",
    "\n",
    "c = cdsapi.Client()\n",
    "\n",
    "c.retrieve(\n",
    "    'reanalysis-era5-single-levels',\n",
    "    {\n",
    "        'product_type': 'reanalysis',\n",
    "        'format': 'netcdf',\n",
    "        'variable': 'sea_surface_temperature',\n",
    "        'year': [\n",
    "                 '2016',\n",
    "        ],\n",
    "        'month': [\n",
    "                 '12'\n",
    "        ],\n",
    "        'day': ['01', '02', '03'\n",
    "                '04', '05', '06'\n",
    "                '07', '08', '09',\n",
    "                '10', '11', '12'\n",
    "        ],\n",
    "        'time': [\n",
    "            '00:00','06:00','12:00','18:00'\n",
    "        ],\n",
    "        'area': [\n",
    "            -20, -41, -23,\n",
    "            -29,\n",
    "        ],\n",
    "    },\n",
    "    'download_era5_ecai.nc')"
   ]
  },
  {
   "cell_type": "markdown",
   "id": "b4e8a52c",
   "metadata": {},
   "source": [
    "# PARAMETROS ATMOSFERICOS"
   ]
  },
  {
   "cell_type": "code",
   "execution_count": 2,
   "id": "00415db0-3676-4b2c-a427-f3b3924963ef",
   "metadata": {},
   "outputs": [
    {
     "name": "stderr",
     "output_type": "stream",
     "text": [
      "2022-02-22 12:47:53,707 INFO Welcome to the CDS\n",
      "2022-02-22 12:47:53,708 INFO Sending request to https://cds.climate.copernicus.eu/api/v2/resources/reanalysis-era5-pressure-levels\n",
      "2022-02-22 12:47:54,011 INFO Request is queued\n"
     ]
    }
   ],
   "source": [
    "import cdsapi\n",
    "\n",
    "c = cdsapi.Client()\n",
    "\n",
    "c.retrieve(\n",
    "    'reanalysis-era5-pressure-levels',\n",
    "    {\n",
    "        'product_type': 'reanalysis',\n",
    "        'format': 'netcdf',\n",
    "        'pressure_level': '850',\n",
    "        'variable': [\n",
    "            'geopotential', 'u_component_of_wind', 'v_component_of_wind',\n",
    "        ],\n",
    "        'year': '2011',\n",
    "        'month': '03',\n",
    "        'day': [\n",
    "            '01', '02', '03',\n",
    "            '04', '05', '06',\n",
    "            '07', '08', '09',\n",
    "            '10', '11', '12',\n",
    "            '13', '14', '15',\n",
    "            '16', '17', '18',\n",
    "            '19', '20', '21',\n",
    "            '22', '23', '24',\n",
    "            '25', '26', '27',\n",
    "            '28', '29', '30',\n",
    "            '31',\n",
    "        ],\n",
    "        'time': [\n",
    "            '00:00', '01:00', '02:00',\n",
    "            '03:00', '04:00', '05:00',\n",
    "            '06:00', '07:00', '08:00',\n",
    "            '09:00', '10:00', '11:00',\n",
    "            '12:00', '13:00', '14:00',\n",
    "            '15:00', '16:00', '17:00',\n",
    "            '18:00', '19:00', '20:00',\n",
    "            '21:00', '22:00', '23:00',\n",
    "        ],\n",
    "        'area': [\n",
    "            -20, -41, -23,\n",
    "            -29,\n",
    "        ],\n",
    "    },\n",
    "    'download_aranis_hpa.nc')"
   ]
  },
  {
   "cell_type": "code",
   "execution_count": null,
   "id": "21d422ba",
   "metadata": {},
   "outputs": [],
   "source": [
    "## MEAN SEA LEVEL PRESSURE\n",
    "\n",
    "import cdsapi\n",
    "\n",
    "c = cdsapi.Client()\n",
    "\n",
    "c.retrieve(\n",
    "    'reanalysis-era5-single-levels',\n",
    "    {\n",
    "        'product_type': 'reanalysis',\n",
    "        'variable': [\n",
    "            'mean_sea_level_pressure', 'surface_pressure',\n",
    "        ],\n",
    "        'year': '2011',\n",
    "        'month': '03',\n",
    "        'day': [\n",
    "            '01', '02', '03',\n",
    "            '04', '05', '06',\n",
    "            '07', '08', '09',\n",
    "            '10', '11', '12',\n",
    "            '13', '14', '15',\n",
    "            '16', '17', '18',\n",
    "            '19', '20', '21',\n",
    "            '22', '23', '24',\n",
    "            '25', '26', '27',\n",
    "            '28', '29', '30',\n",
    "            '31',\n",
    "        ],\n",
    "        'time': [\n",
    "            '00:00', '01:00', '02:00',\n",
    "            '03:00', '04:00', '05:00',\n",
    "            '06:00', '07:00', '08:00',\n",
    "            '09:00', '10:00', '11:00',\n",
    "            '12:00', '13:00', '14:00',\n",
    "            '15:00', '16:00', '17:00',\n",
    "            '18:00', '19:00', '20:00',\n",
    "            '21:00', '22:00', '23:00',\n",
    "        ],\n",
    "        'area': [\n",
    "            -20, -41, -23,\n",
    "            -29,\n",
    "        ],\n",
    "        'format': 'netcdf',\n",
    "    },\n",
    "    'download_aranis_mslp_surfacepressure.nc')"
   ]
  },
  {
   "cell_type": "code",
   "execution_count": null,
   "id": "2ede16a0",
   "metadata": {},
   "outputs": [],
   "source": []
  }
 ],
 "metadata": {
  "kernelspec": {
   "display_name": "Python 3 (ipykernel)",
   "language": "python",
   "name": "python3"
  },
  "language_info": {
   "codemirror_mode": {
    "name": "ipython",
    "version": 3
   },
   "file_extension": ".py",
   "mimetype": "text/x-python",
   "name": "python",
   "nbconvert_exporter": "python",
   "pygments_lexer": "ipython3",
   "version": "3.9.5"
  }
 },
 "nbformat": 4,
 "nbformat_minor": 5
}
